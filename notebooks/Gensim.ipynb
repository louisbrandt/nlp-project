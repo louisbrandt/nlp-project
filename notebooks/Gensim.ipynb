{
 "cells": [
  {
   "cell_type": "code",
   "execution_count": null,
   "metadata": {},
   "outputs": [],
   "source": [
    "import pickle\n",
    "import gensim\n",
    "from gensim.models import Word2Vec\n",
    "from nltk.tokenize import word_tokenize\n",
    "from gensim.models import KeyedVectors"
   ]
  },
  {
   "cell_type": "code",
   "execution_count": null,
   "metadata": {},
   "outputs": [],
   "source": [
    "languages = ['en','jp','fr']"
   ]
  },
  {
   "cell_type": "code",
   "execution_count": null,
   "metadata": {},
   "outputs": [],
   "source": [
    "for lang in languages:\n",
    "    #load tokenized data [['hi', 'there'], ['What's', 'up']]\n",
    "    with open(f'../data/amazon_reviews/train/processed_data/train_tokens_{lang}.pickle', 'rb') as file:\n",
    "        data = pickle.load(file)\n",
    "    #initialize model with the tokenized data\n",
    "    model = Word2Vec(data, min_count=1,vector_size= 200,workers=3, window =4, sg = 1)\n",
    "    #Train NN / word2vec model\n",
    "    model.train(data, total_examples=model.corpus_count, epochs=model.epochs)\n",
    "    with open(f'../models/{lang}_w2v.pickle', 'wb') as f:\n",
    "        pickle.dump(model, f)\n",
    "    \n",
    "    \n",
    "    \n"
   ]
  }
 ],
 "metadata": {
  "kernelspec": {
   "display_name": "Python 3",
   "language": "python",
   "name": "python3"
  },
  "language_info": {
   "codemirror_mode": {
    "name": "ipython",
    "version": 3
   },
   "file_extension": ".py",
   "mimetype": "text/x-python",
   "name": "python",
   "nbconvert_exporter": "python",
   "pygments_lexer": "ipython3",
   "version": "3.8.5"
  }
 },
 "nbformat": 4,
 "nbformat_minor": 4
}
