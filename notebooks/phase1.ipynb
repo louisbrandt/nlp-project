{
 "cells": [
  {
   "cell_type": "markdown",
   "metadata": {},
   "source": [
    "## Phase 1: Baseline \n",
    "The goal of this phase is to create a baseline model. Note that the word baseline can mean different things. In the course we distinguished three different types of baselines:\n",
    "\n",
    "1. The simplest possible approach (majority baseline, i.e. everything is positive or noun)\n",
    "2. A simple machine learning classifier (logistic regression with words as features)\n",
    "3. The 'state-of-the-art' approach on which you want to improve (your starting point)"
   ]
  },
  {
   "cell_type": "markdown",
   "metadata": {},
   "source": [
    "### Task: Sentiment classification\n",
    "The data can be found in the **classification folder** .  \n",
    "The goal is to **predict the label** in the sentiment field.  \n",
    "You have to upload the predictions of music_reviews_test_masked.json.gz to CodaLab. (The link will be posted here on monday). Note that the format should match the json files in the repository.  \n",
    "Also upload a .txt file on LearnIt (one per group) with a short description of your baseline.  "
   ]
  },
  {
   "cell_type": "markdown",
   "metadata": {},
   "source": [
    "0 - Imports"
   ]
  },
  {
   "cell_type": "code",
   "execution_count": 7,
   "metadata": {},
   "outputs": [],
   "source": [
    "import numpy as np\n",
    "import gzip\n",
    "import json"
   ]
  },
  {
   "cell_type": "markdown",
   "metadata": {},
   "source": [
    "### 1 - Load the Data"
   ]
  },
  {
   "cell_type": "markdown",
   "metadata": {},
   "source": [
    "Train"
   ]
  },
  {
   "cell_type": "code",
   "execution_count": 8,
   "id": "f8e90c76-a10b-4fee-ac9a-c2c1e7a8deb5",
   "metadata": {},
   "outputs": [],
   "source": [
    "train_data = {}\n",
    "for value, line in enumerate(gzip.open('../data/classification/music_reviews_train.json.gz')):\n",
    "    review_data = json.loads(line)\n",
    "    train_data[value] = {}\n",
    "    for key, dict_value in review_data.items():\n",
    "        train_data[value][key] = dict_value"
   ]
  },
  {
   "cell_type": "markdown",
   "metadata": {},
   "source": [
    "Development"
   ]
  },
  {
   "cell_type": "code",
   "execution_count": 9,
   "id": "f8e90c76-a10b-4fee-ac9a-c2c1e7a8deb5",
   "metadata": {},
   "outputs": [],
   "source": [
    "dev_data = {}\n",
    "for value, line in enumerate(gzip.open('../data/classification/music_reviews_dev.json.gz')):\n",
    "    review_data = json.loads(line)\n",
    "    dev_data[value] = {}\n",
    "    for key, dict_value in review_data.items():\n",
    "        dev_data[value][key] = dict_value"
   ]
  },
  {
   "cell_type": "markdown",
   "metadata": {},
   "source": [
    "Test"
   ]
  },
  {
   "cell_type": "code",
   "execution_count": 10,
   "id": "f8e90c76-a10b-4fee-ac9a-c2c1e7a8deb5",
   "metadata": {},
   "outputs": [],
   "source": [
    "test_data = {}\n",
    "for value, line in enumerate(gzip.open('../data/classification/music_reviews_test_masked.json.gz')):\n",
    "    review_data = json.loads(line)\n",
    "    test_data[value] = {}\n",
    "    for key, dict_value in review_data.items():\n",
    "        test_data[value][key] = dict_value"
   ]
  }
 ],
 "metadata": {
  "interpreter": {
   "hash": "b3ba2566441a7c06988d0923437866b63cedc61552a5af99d1f4fb67d367b25f"
  },
  "kernelspec": {
   "display_name": "Python 3.8.5 ('base')",
   "language": "python",
   "name": "python3"
  },
  "language_info": {
   "codemirror_mode": {
    "name": "ipython",
    "version": 3
   },
   "file_extension": ".py",
   "mimetype": "text/x-python",
   "name": "python",
   "nbconvert_exporter": "python",
   "pygments_lexer": "ipython3",
   "version": "3.8.5"
  },
  "orig_nbformat": 4
 },
 "nbformat": 4,
 "nbformat_minor": 2
}
