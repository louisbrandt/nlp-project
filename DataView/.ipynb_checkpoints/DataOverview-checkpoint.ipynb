{
 "cells": [
  {
   "cell_type": "markdown",
   "id": "86fce7ec-b5a2-48d7-aa5c-0b122c318609",
   "metadata": {},
   "source": [
    "### IMPORTS"
   ]
  },
  {
   "cell_type": "code",
   "execution_count": 2,
   "id": "a70e2f76-ef3e-4b14-b067-be9cbe786eda",
   "metadata": {},
   "outputs": [],
   "source": [
    "import gzip\n",
    "import json"
   ]
  },
  {
   "cell_type": "markdown",
   "id": "43dc6f2e-16f4-4fb5-984d-94c4a41b461a",
   "metadata": {},
   "source": [
    "### GETTING TRAIN DATA"
   ]
  },
  {
   "cell_type": "code",
   "execution_count": 4,
   "id": "f8e90c76-a10b-4fee-ac9a-c2c1e7a8deb5",
   "metadata": {},
   "outputs": [],
   "source": [
    "train_data_full = {}\n",
    "for value, line in enumerate(gzip.open('Data/classification/music_reviews_train.json.gz')):\n",
    "    train_data = {}\n",
    "    review_data = json.loads(line)\n",
    "    train_data_full[value] = {}\n",
    "    for key, dict_value in review_data.items():\n",
    "        train_data_full[value][key] = dict_value"
   ]
  },
  {
   "cell_type": "code",
   "execution_count": 5,
   "id": "2d89c85a-3185-469d-a52d-88ddfa2dcb39",
   "metadata": {},
   "outputs": [
    {
     "name": "stdout",
     "output_type": "stream",
     "text": [
      "So creative!  Love his music - the words, the message! Some of my favorite songs on this CD. I should have bought it years ago!\n",
      "positive\n",
      "\n",
      "100000\n"
     ]
    }
   ],
   "source": [
    "for i in range(1):\n",
    "    print(train_data_full[i]['reviewText'])\n",
    "    print(train_data_full[i]['sentiment'])\n",
    "    print()\n",
    "    \n",
    "print(len(train_data_full))"
   ]
  },
  {
   "cell_type": "markdown",
   "id": "556cdf91-5b7c-427d-bab9-d4165b9134d2",
   "metadata": {},
   "source": [
    "### GETTING DEV DATA"
   ]
  },
  {
   "cell_type": "code",
   "execution_count": 74,
   "id": "c5f57adb-f514-4262-ab05-0fd753bdcd56",
   "metadata": {},
   "outputs": [],
   "source": [
    "dev_data_full = {}\n",
    "for value, line in enumerate(gzip.open('Data/classification/music_reviews_dev.json.gz')):\n",
    "    dev_data = {}\n",
    "    review_data = json.loads(line)\n",
    "    dev_data_full[value] = {}\n",
    "    for key, dict_value in review_data.items():\n",
    "        dev_data_full[value][key] = dict_value"
   ]
  },
  {
   "cell_type": "code",
   "execution_count": 88,
   "id": "01b2e255-431c-4c17-a23d-4fa7d38cbc24",
   "metadata": {},
   "outputs": [
    {
     "name": "stdout",
     "output_type": "stream",
     "text": [
      "My dentist recommended this as a relaxation technique for dental visits. They give me an ipod with headphones, play this on it and it relieves some of the stress of dental treatment, which I dislike intensely.\n",
      "It worked so well that I bought my own copy to try at home. I fall asleep after a couple of minutes and stay asleep. Instead of tossing and turning, I hardly move at all. Highly recommend.\n",
      "positive\n",
      "\n",
      "10000\n"
     ]
    }
   ],
   "source": [
    "for i in range(1):\n",
    "    print(dev_data_full[i]['reviewText'])\n",
    "    print(dev_data_full[i]['sentiment'])\n",
    "    print()\n",
    "    \n",
    "print(len(dev_data_full))"
   ]
  },
  {
   "cell_type": "markdown",
   "id": "49ad7600-15f3-4139-b17e-69e79d636689",
   "metadata": {},
   "source": [
    "### GETTING TEST DATA"
   ]
  },
  {
   "cell_type": "code",
   "execution_count": 78,
   "id": "076d13a6-07e2-4274-9ae6-d4e818953c38",
   "metadata": {},
   "outputs": [],
   "source": [
    "test_data_full = {}\n",
    "for value, line in enumerate(gzip.open('Data/classification/music_reviews_test_masked.json.gz')):\n",
    "    test_data = {}\n",
    "    review_data = json.loads(line)\n",
    "    test_data_full[value] = {}\n",
    "    for key, dict_value in review_data.items():\n",
    "        test_data_full[value][key] = dict_value"
   ]
  },
  {
   "cell_type": "code",
   "execution_count": 89,
   "id": "2be0585e-67aa-4267-ae11-458a3f792566",
   "metadata": {},
   "outputs": [
    {
     "name": "stdout",
     "output_type": "stream",
     "text": [
      "ok\n",
      "_\n",
      "\n",
      "10000\n"
     ]
    }
   ],
   "source": [
    "for i in range(1):\n",
    "    print(test_data_full[i]['reviewText'])\n",
    "    print(test_data_full[i]['sentiment'])\n",
    "    print()\n",
    "    \n",
    "print(len(test_data_full))"
   ]
  },
  {
   "cell_type": "markdown",
   "id": "eef7aac9-7d37-4006-a9fc-d9350926bc28",
   "metadata": {},
   "source": [
    "### SIZE OF DATA"
   ]
  },
  {
   "cell_type": "code",
   "execution_count": 1,
   "id": "59f91abf-3144-425f-82c5-6b95d85ea791",
   "metadata": {},
   "outputs": [
    {
     "ename": "NameError",
     "evalue": "name 'train_data_full' is not defined",
     "output_type": "error",
     "traceback": [
      "\u001b[0;31m---------------------------------------------------------------------------\u001b[0m",
      "\u001b[0;31mNameError\u001b[0m                                 Traceback (most recent call last)",
      "\u001b[0;32m/var/folders/j9/mczsbv8j10jck3rnrrhq0cc80000gn/T/ipykernel_92550/1739917555.py\u001b[0m in \u001b[0;36m<module>\u001b[0;34m\u001b[0m\n\u001b[0;32m----> 1\u001b[0;31m print(\"\\t\"\"Train: \", len(train_data_full), \n\u001b[0m\u001b[1;32m      2\u001b[0m       \u001b[0;34m\"\\n\"\u001b[0m\u001b[0;34m,\u001b[0m\u001b[0;34m\u001b[0m\u001b[0;34m\u001b[0m\u001b[0m\n\u001b[1;32m      3\u001b[0m       \u001b[0;34m\"\\t\"\u001b[0m\u001b[0;34m\"Dev: \"\u001b[0m\u001b[0;34m,\u001b[0m \u001b[0mlen\u001b[0m\u001b[0;34m(\u001b[0m\u001b[0mdev_data_full\u001b[0m\u001b[0;34m)\u001b[0m\u001b[0;34m,\u001b[0m\u001b[0;34m\u001b[0m\u001b[0;34m\u001b[0m\u001b[0m\n\u001b[1;32m      4\u001b[0m       \u001b[0;34m\"\\n\"\u001b[0m\u001b[0;34m,\u001b[0m\u001b[0;34m\u001b[0m\u001b[0;34m\u001b[0m\u001b[0m\n\u001b[1;32m      5\u001b[0m       \"\\t\"\"Test:\", len(test_data_full))\n",
      "\u001b[0;31mNameError\u001b[0m: name 'train_data_full' is not defined"
     ]
    }
   ],
   "source": [
    "print(\"\\t\"\"Train: \", len(train_data_full), \n",
    "      \"\\n\", \n",
    "      \"\\t\"\"Dev: \", len(dev_data_full), \n",
    "      \"\\n\", \n",
    "      \"\\t\"\"Test:\", len(test_data_full))"
   ]
  },
  {
   "cell_type": "code",
   "execution_count": null,
   "id": "4564ecb3-66ff-4c00-a915-5936f4d156ab",
   "metadata": {},
   "outputs": [],
   "source": []
  }
 ],
 "metadata": {
  "kernelspec": {
   "display_name": "Python 3 (ipykernel)",
   "language": "python",
   "name": "python3"
  },
  "language_info": {
   "codemirror_mode": {
    "name": "ipython",
    "version": 3
   },
   "file_extension": ".py",
   "mimetype": "text/x-python",
   "name": "python",
   "nbconvert_exporter": "python",
   "pygments_lexer": "ipython3",
   "version": "3.8.11"
  }
 },
 "nbformat": 4,
 "nbformat_minor": 5
}
