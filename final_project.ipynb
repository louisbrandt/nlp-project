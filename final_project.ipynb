{
 "cells": [
  {
   "cell_type": "markdown",
   "metadata": {},
   "source": [
    "## Second Year Project\n",
    "### Group 10 - Emma, Louis, Andreas & Filip"
   ]
  },
  {
   "cell_type": "markdown",
   "metadata": {},
   "source": [
    "#### *HEADER / PROJECTNAME*"
   ]
  },
  {
   "cell_type": "markdown",
   "metadata": {},
   "source": [
    "### Imports"
   ]
  },
  {
   "cell_type": "code",
   "execution_count": 2,
   "metadata": {},
   "outputs": [],
   "source": [
    "import numpy as np\n",
    "import gensim\n",
    "import pickle "
   ]
  },
  {
   "cell_type": "markdown",
   "metadata": {},
   "source": [
    "### load data"
   ]
  },
  {
   "cell_type": "code",
   "execution_count": null,
   "metadata": {},
   "outputs": [],
   "source": []
  },
  {
   "cell_type": "markdown",
   "metadata": {},
   "source": [
    "### load embeddings"
   ]
  },
  {
   "cell_type": "code",
   "execution_count": 21,
   "metadata": {},
   "outputs": [],
   "source": [
    "def format_mono(w2v):\n",
    "  word_mapping = w2v.wv.index_to_key # list of tokens\n",
    "  \n",
    "  matrix = w2v.wv.vectors   # (V,D)\n",
    "  pad = np.zeros((1,200))\n",
    "  matrix = np.vstack((pad,matrix))\n",
    "  \n",
    "  return matrix, word_mapping\n",
    "\n",
    "\n",
    "def format_cross(dict):\n",
    "    pad = np.zeros((1,200))\n",
    "    dict['matrix'] = np.vstack((pad,dict['matrix']))\n",
    "    return dict"
   ]
  },
  {
   "cell_type": "code",
   "execution_count": 22,
   "metadata": {},
   "outputs": [],
   "source": [
    "# dict{'matrix':embedding matrix, 'lookup':vocab lookup} \n",
    "\n",
    "with open(f'embeddings/en.pickle','rb') as f:     \n",
    "    en_w2v = pickle.load(f) \n",
    "with open(f'embeddings/fr.pickle','rb') as f:     \n",
    "    fr_w2v = pickle.load(f) \n",
    "with open(f'embeddings/jp.pickle','rb') as f:     \n",
    "    jp_w2v = pickle.load(f) \n",
    "with open(f'embeddings/enfr.pickle','rb') as f:     \n",
    "    enfr_dict = pickle.load(f) \n",
    "with open(f'embeddings/enjp.pickle','rb') as f:     \n",
    "    enjp_dict = pickle.load(f) \n",
    "\n",
    "en_dict = format_mono(en_w2v)\n",
    "fr_dict = format_mono(fr_w2v)\n",
    "jp_dict = format_mono(jp_w2v)\n",
    "enfr_dict = format_cross(enfr_dict)\n",
    "enjp_dict = format_cross(enjp_dict)"
   ]
  },
  {
   "cell_type": "code",
   "execution_count": 24,
   "metadata": {},
   "outputs": [],
   "source": [
    "with open(f'embeddings/en.pickle','wb') as f:     \n",
    "    pickle.dump(en_dict,f)\n",
    "with open(f'embeddings/fr.pickle','wb') as f:     \n",
    "    pickle.dump(fr_dict,f)\n",
    "with open(f'embeddings/jp.pickle','wb') as f:     \n",
    "    pickle.dump(jp_dict,f)\n",
    "with open(f'embeddings/enfr.pickle','wb') as f:     \n",
    "    pickle.dump(enfr_dict,f)\n",
    "with open(f'embeddings/enjp.pickle','wb') as f:     \n",
    "    pickle.dump(enjp_dict,f)"
   ]
  },
  {
   "cell_type": "markdown",
   "metadata": {},
   "source": []
  },
  {
   "cell_type": "markdown",
   "metadata": {},
   "source": [
    "### load model"
   ]
  },
  {
   "cell_type": "markdown",
   "metadata": {},
   "source": []
  },
  {
   "cell_type": "markdown",
   "metadata": {},
   "source": [
    "### biLSTM"
   ]
  },
  {
   "cell_type": "markdown",
   "metadata": {},
   "source": []
  }
 ],
 "metadata": {
  "interpreter": {
   "hash": "ad2bdc8ecc057115af97d19610ffacc2b4e99fae6737bb82f5d7fb13d2f2c186"
  },
  "kernelspec": {
   "display_name": "Python 3.8.5 ('base')",
   "language": "python",
   "name": "python3"
  },
  "language_info": {
   "codemirror_mode": {
    "name": "ipython",
    "version": 3
   },
   "file_extension": ".py",
   "mimetype": "text/x-python",
   "name": "python",
   "nbconvert_exporter": "python",
   "pygments_lexer": "ipython3",
   "version": "3.8.5"
  },
  "orig_nbformat": 4
 },
 "nbformat": 4,
 "nbformat_minor": 2
}
