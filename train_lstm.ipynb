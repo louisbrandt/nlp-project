{
 "cells": [
  {
   "cell_type": "code",
   "execution_count": null,
   "metadata": {},
   "outputs": [],
   "source": [
    "import numpy as np\n",
    "import torch\n",
    "import torch.nn as nn\n",
    "from torch.utils.data import TensorDataset, DataLoader\n",
    "from scripts.lstm_train import LSTM, train, dd, dd2\n",
    "from scripts.test import test, classify\n",
    "import pickle\n",
    "from sklearn.model_selection import train_test_split"
   ]
  },
  {
   "cell_type": "markdown",
   "metadata": {},
   "source": [
    "### Load Data & Embeddings"
   ]
  },
  {
   "cell_type": "code",
   "execution_count": null,
   "metadata": {},
   "outputs": [],
   "source": [
    "with open('data/amazon_reviews/raw_data.pickle','rb') as f:\n",
    "    raw_data = pickle.load(f)\n",
    "with open(f'embeddings/en.pickle','rb') as f:     \n",
    "    enen = pickle.load(f) \n",
    "with open(f'embeddings/fr.pickle','rb') as f:     \n",
    "    frfr = pickle.load(f) \n",
    "with open(f'embeddings/jp.pickle','rb') as f:     \n",
    "    jpjp = pickle.load(f) \n",
    "with open(f'embeddings/enfr.pickle','rb') as f:     \n",
    "    enfr = pickle.load(f) \n",
    "with open(f'embeddings/enjp.pickle','rb') as f:     \n",
    "    enjp = pickle.load(f) "
   ]
  },
  {
   "cell_type": "markdown",
   "metadata": {},
   "source": [
    "### Specify Language"
   ]
  },
  {
   "cell_type": "code",
   "execution_count": null,
   "metadata": {},
   "outputs": [],
   "source": [
    "lang1 = 'en'\n",
    "lang2 = 'fr'\n",
    "emb = enfr \n",
    "emb_matrix = torch.tensor(emb['matrix'])\n",
    "emb_lookup = emb['lookup']\n",
    "# weird pickle error, if above 2 lines don't work, try below \n",
    "# emb_matrix = torch.tensor(emb[0])\n",
    "# emb_lookup = emb[1]"
   ]
  },
  {
   "cell_type": "code",
   "execution_count": null,
   "metadata": {},
   "outputs": [],
   "source": [
    "def pad(data, seq_len=200):\n",
    "  padded = np.zeros((len(data), seq_len),dtype=int)\n",
    "  for ii, review in enumerate(data):\n",
    "    if len(review) != 0:\n",
    "      padded[ii, -len(review):] = np.array(review)[:seq_len]\n",
    "  return padded\n",
    "\n",
    "def numerise(raw,lookup):\n",
    "  data = []\n",
    "  for review in raw: #[list of tokens]\n",
    "    num_review = []\n",
    "    for token in review:\n",
    "      if token in lookup:\n",
    "        num_review.append(lookup.index(token) + 1) # +1 for padding\n",
    "      else:\n",
    "        num_review.append(0)\n",
    "    data.append(num_review)\n",
    "  padded = pad(data)\n",
    "  return padded"
   ]
  },
  {
   "cell_type": "markdown",
   "metadata": {},
   "source": [
    "### Split Data"
   ]
  },
  {
   "cell_type": "code",
   "execution_count": null,
   "metadata": {},
   "outputs": [],
   "source": [
    "# load raw training/testing data\n",
    "raw_lang1 = raw_data[lang1]['corpus'][0:100] \n",
    "y_lang1 = raw_data[lang1]['y'][0:100]\n",
    "  \n",
    "raw_lang2 = raw_data[lang2]['corpus'][0:100] \n",
    "y_lang2 = raw_data[lang2]['y'][0:100] \n",
    "# pad and numerise reviews  \n",
    "if lang1==lang2:\n",
    "    X = numerise(raw_lang1,emb_lookup) \n",
    "    y = y_lang1\n",
    "\n",
    "    X_train, X_test, y_train, y_test = train_test_split(X,y, test_size=0.2,shuffle=True,random_state=69)\n",
    "    X_train, X_val, y_train, y_val = train_test_split(X_train, y_train, test_size=0.25,random_state=69)\n",
    "else:\n",
    "    X_train = numerise(raw_lang1,emb_lookup)\n",
    "    y_train = y_lang1\n",
    "    X_train, X_val, y_train, y_val = train_test_split(X_train, y_train, test_size=0.25,random_state=69)\n",
    "    \n",
    "    X_test = numerise(raw_lang2,emb_lookup)\n",
    "    y_test = y_lang2\n",
    "    X_test, cutX, y_test, cuty = train_test_split(X_test, y_test, test_size=0.5,random_state=69)\n",
    "\n",
    "\n",
    "X_train = torch.tensor(X_train)\n",
    "X_val   = torch.tensor(X_val)\n",
    "X_test  = torch.tensor(X_test)\n",
    "y_train = torch.tensor(y_train)\n",
    "y_val   = torch.tensor(y_val)\n",
    "y_test  = torch.tensor(y_test)"
   ]
  },
  {
   "cell_type": "code",
   "execution_count": null,
   "metadata": {},
   "outputs": [],
   "source": [
    "train_data = TensorDataset(X_train, y_train)  \n",
    "val_data = TensorDataset(X_val, y_val)  \n",
    "test_data = TensorDataset(X_test, y_test) "
   ]
  },
  {
   "cell_type": "markdown",
   "metadata": {},
   "source": [
    "### Define Hyperparams\n"
   ]
  },
  {
   "cell_type": "code",
   "execution_count": null,
   "metadata": {},
   "outputs": [],
   "source": [
    "param_dict ={\n",
    "      'hidden':400,\n",
    "      'output':1,\n",
    "      'emb':200,\n",
    "      'layers':1,\n",
    "      'dropout':0.3,\n",
    "      'batch':16,\n",
    "      'epochs':50,\n",
    "      'lr':0.01\n",
    "}\n",
    "# break data into batches\n",
    "batch_size = param_dict['batch'] \n",
    "train_loader = DataLoader(train_data,batch_size=batch_size,drop_last=True)\n",
    "val_loader = DataLoader(val_data,batch_size=batch_size,drop_last=True)\n",
    "test_loader = DataLoader(test_data,batch_size=batch_size,drop_last=True)"
   ]
  },
  {
   "cell_type": "code",
   "execution_count": null,
   "metadata": {},
   "outputs": [],
   "source": [
    "model = LSTM(param_dict,emb_matrix)\n",
    "# run model on GPUs\n",
    "is_cuda = torch.cuda.is_available()\n",
    "if is_cuda:\n",
    "    device = torch.device('cuda')\n",
    "    print(\"GPU is available\")\n",
    "else:\n",
    "    device = torch.device('cpu')\n",
    "    print(\"GPU not available, CPU used\")\n",
    "model.to(device)"
   ]
  },
  {
   "cell_type": "code",
   "execution_count": null,
   "metadata": {},
   "outputs": [],
   "source": [
    "len(train_loader)"
   ]
  },
  {
   "cell_type": "code",
   "execution_count": null,
   "metadata": {},
   "outputs": [],
   "source": [
    "model = train(model,param_dict,train_loader,val_loader,device)\n",
    "print('training complete')"
   ]
  },
  {
   "cell_type": "code",
   "execution_count": null,
   "metadata": {},
   "outputs": [],
   "source": [
    "cf_matrix, f1, test_accuracy= test(model, test_loader,param_dict,device)\n",
    "print('testing complete')"
   ]
  },
  {
   "cell_type": "code",
   "execution_count": null,
   "metadata": {},
   "outputs": [],
   "source": [
    "test_accuracy"
   ]
  }
 ],
 "metadata": {
  "interpreter": {
   "hash": "ad2bdc8ecc057115af97d19610ffacc2b4e99fae6737bb82f5d7fb13d2f2c186"
  },
  "kernelspec": {
   "display_name": "Python 3.8.5 ('base')",
   "language": "python",
   "name": "python3"
  },
  "language_info": {
   "codemirror_mode": {
    "name": "ipython",
    "version": 3
   },
   "file_extension": ".py",
   "mimetype": "text/x-python",
   "name": "python",
   "nbconvert_exporter": "python",
   "pygments_lexer": "ipython3",
   "version": "3.8.5"
  },
  "orig_nbformat": 4
 },
 "nbformat": 4,
 "nbformat_minor": 2
}
